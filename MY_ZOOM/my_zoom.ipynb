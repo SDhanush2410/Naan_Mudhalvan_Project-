{
 "cells": [
  {
   "cell_type": "code",
   "execution_count": 1,
   "metadata": {
    "colab": {
     "base_uri": "https://localhost:8080/"
    },
    "id": "LpGsKUgcnboZ",
    "outputId": "8c1a9d6a-4644-4559-f143-8625d024b778"
   },
   "outputs": [
    {
     "name": "stderr",
     "output_type": "stream",
     "text": [
      "[nltk_data] Downloading package wordnet to /root/nltk_data...\n"
     ]
    },
    {
     "data": {
      "text/plain": [
       "True"
      ]
     },
     "execution_count": 1,
     "metadata": {},
     "output_type": "execute_result"
    }
   ],
   "source": [
    "import tensorflow as tf\n",
    "import pandas as pd\n",
    "import numpy as np\n",
    "import random\n",
    "import nltk\n",
    "from nltk.corpus import wordnet\n",
    "from transformers import BertTokenizer, TFBertForSequenceClassification\n",
    "from tensorflow.keras.optimizers import Adam\n",
    "from tensorflow.keras.losses import SparseCategoricalCrossentropy\n",
    "from tensorflow.keras.callbacks import EarlyStopping\n",
    "from sklearn.utils import class_weight, resample\n",
    "from sklearn.metrics import classification_report\n",
    "import re\n",
    "from sklearn.model_selection import train_test_split\n",
    "\n",
    "# Download WordNet\n",
    "nltk.download('wordnet')"
   ]
  },
  {
   "cell_type": "code",
   "execution_count": 2,
   "metadata": {
    "colab": {
     "base_uri": "https://localhost:8080/",
     "height": 206
    },
    "id": "6DaHed3kpK-z",
    "outputId": "ed364127-d3bc-400a-e1e4-d44d5bed6a96"
   },
   "outputs": [
    {
     "data": {
      "application/vnd.google.colaboratory.intrinsic+json": {
       "summary": "{\n  \"name\": \"train_df\",\n  \"rows\": 2061,\n  \"fields\": [\n    {\n      \"column\": \"text\",\n      \"properties\": {\n        \"dtype\": \"string\",\n        \"num_unique_values\": 2059,\n        \"samples\": [\n          \"stupid, the interface is not clear!!\",\n          \"I would like zoom to be able to work in background with picture in picture video like facetime does.\",\n          \"very good application developers please turn on the sound when you log in from the phone\"\n        ],\n        \"semantic_type\": \"\",\n        \"description\": \"\"\n      }\n    },\n    {\n      \"column\": \"reason\",\n      \"properties\": {\n        \"dtype\": \"string\",\n        \"num_unique_values\": 2061,\n        \"samples\": [\n          \"sound connection is poor\",\n          \"want the app to run in background with picture in picture video\",\n          \"want to join\"\n        ],\n        \"semantic_type\": \"\",\n        \"description\": \"\"\n      }\n    },\n    {\n      \"column\": \"label\",\n      \"properties\": {\n        \"dtype\": \"number\",\n        \"std\": 0,\n        \"min\": 1,\n        \"max\": 1,\n        \"num_unique_values\": 1,\n        \"samples\": [\n          1\n        ],\n        \"semantic_type\": \"\",\n        \"description\": \"\"\n      }\n    }\n  ]\n}",
       "type": "dataframe",
       "variable_name": "train_df"
      },
      "text/html": [
       "\n",
       "  <div id=\"df-85b13243-d92e-4b9e-bbc5-2d737a4b19ce\" class=\"colab-df-container\">\n",
       "    <div>\n",
       "<style scoped>\n",
       "    .dataframe tbody tr th:only-of-type {\n",
       "        vertical-align: middle;\n",
       "    }\n",
       "\n",
       "    .dataframe tbody tr th {\n",
       "        vertical-align: top;\n",
       "    }\n",
       "\n",
       "    .dataframe thead th {\n",
       "        text-align: right;\n",
       "    }\n",
       "</style>\n",
       "<table border=\"1\" class=\"dataframe\">\n",
       "  <thead>\n",
       "    <tr style=\"text-align: right;\">\n",
       "      <th></th>\n",
       "      <th>text</th>\n",
       "      <th>reason</th>\n",
       "      <th>label</th>\n",
       "    </tr>\n",
       "  </thead>\n",
       "  <tbody>\n",
       "    <tr>\n",
       "      <th>0</th>\n",
       "      <td>this is an amazing app for online classes!but</td>\n",
       "      <td>good app for conducting online classes</td>\n",
       "      <td>1</td>\n",
       "    </tr>\n",
       "    <tr>\n",
       "      <th>1</th>\n",
       "      <td>very practical and easy to use</td>\n",
       "      <td>app is user-friendly</td>\n",
       "      <td>1</td>\n",
       "    </tr>\n",
       "    <tr>\n",
       "      <th>2</th>\n",
       "      <td>this app is very good for video conferencing.</td>\n",
       "      <td>good for video conferencing</td>\n",
       "      <td>1</td>\n",
       "    </tr>\n",
       "    <tr>\n",
       "      <th>3</th>\n",
       "      <td>i can not download this zoom app</td>\n",
       "      <td>unable to download zoom app</td>\n",
       "      <td>1</td>\n",
       "    </tr>\n",
       "    <tr>\n",
       "      <th>4</th>\n",
       "      <td>i am not able to download this app</td>\n",
       "      <td>want to download the app</td>\n",
       "      <td>1</td>\n",
       "    </tr>\n",
       "  </tbody>\n",
       "</table>\n",
       "</div>\n",
       "    <div class=\"colab-df-buttons\">\n",
       "\n",
       "  <div class=\"colab-df-container\">\n",
       "    <button class=\"colab-df-convert\" onclick=\"convertToInteractive('df-85b13243-d92e-4b9e-bbc5-2d737a4b19ce')\"\n",
       "            title=\"Convert this dataframe to an interactive table.\"\n",
       "            style=\"display:none;\">\n",
       "\n",
       "  <svg xmlns=\"http://www.w3.org/2000/svg\" height=\"24px\" viewBox=\"0 -960 960 960\">\n",
       "    <path d=\"M120-120v-720h720v720H120Zm60-500h600v-160H180v160Zm220 220h160v-160H400v160Zm0 220h160v-160H400v160ZM180-400h160v-160H180v160Zm440 0h160v-160H620v160ZM180-180h160v-160H180v160Zm440 0h160v-160H620v160Z\"/>\n",
       "  </svg>\n",
       "    </button>\n",
       "\n",
       "  <style>\n",
       "    .colab-df-container {\n",
       "      display:flex;\n",
       "      gap: 12px;\n",
       "    }\n",
       "\n",
       "    .colab-df-convert {\n",
       "      background-color: #E8F0FE;\n",
       "      border: none;\n",
       "      border-radius: 50%;\n",
       "      cursor: pointer;\n",
       "      display: none;\n",
       "      fill: #1967D2;\n",
       "      height: 32px;\n",
       "      padding: 0 0 0 0;\n",
       "      width: 32px;\n",
       "    }\n",
       "\n",
       "    .colab-df-convert:hover {\n",
       "      background-color: #E2EBFA;\n",
       "      box-shadow: 0px 1px 2px rgba(60, 64, 67, 0.3), 0px 1px 3px 1px rgba(60, 64, 67, 0.15);\n",
       "      fill: #174EA6;\n",
       "    }\n",
       "\n",
       "    .colab-df-buttons div {\n",
       "      margin-bottom: 4px;\n",
       "    }\n",
       "\n",
       "    [theme=dark] .colab-df-convert {\n",
       "      background-color: #3B4455;\n",
       "      fill: #D2E3FC;\n",
       "    }\n",
       "\n",
       "    [theme=dark] .colab-df-convert:hover {\n",
       "      background-color: #434B5C;\n",
       "      box-shadow: 0px 1px 3px 1px rgba(0, 0, 0, 0.15);\n",
       "      filter: drop-shadow(0px 1px 2px rgba(0, 0, 0, 0.3));\n",
       "      fill: #FFFFFF;\n",
       "    }\n",
       "  </style>\n",
       "\n",
       "    <script>\n",
       "      const buttonEl =\n",
       "        document.querySelector('#df-85b13243-d92e-4b9e-bbc5-2d737a4b19ce button.colab-df-convert');\n",
       "      buttonEl.style.display =\n",
       "        google.colab.kernel.accessAllowed ? 'block' : 'none';\n",
       "\n",
       "      async function convertToInteractive(key) {\n",
       "        const element = document.querySelector('#df-85b13243-d92e-4b9e-bbc5-2d737a4b19ce');\n",
       "        const dataTable =\n",
       "          await google.colab.kernel.invokeFunction('convertToInteractive',\n",
       "                                                    [key], {});\n",
       "        if (!dataTable) return;\n",
       "\n",
       "        const docLinkHtml = 'Like what you see? Visit the ' +\n",
       "          '<a target=\"_blank\" href=https://colab.research.google.com/notebooks/data_table.ipynb>data table notebook</a>'\n",
       "          + ' to learn more about interactive tables.';\n",
       "        element.innerHTML = '';\n",
       "        dataTable['output_type'] = 'display_data';\n",
       "        await google.colab.output.renderOutput(dataTable, element);\n",
       "        const docLink = document.createElement('div');\n",
       "        docLink.innerHTML = docLinkHtml;\n",
       "        element.appendChild(docLink);\n",
       "      }\n",
       "    </script>\n",
       "  </div>\n",
       "\n",
       "\n",
       "    <div id=\"df-5c7c36e7-dc94-4c3e-ae49-fa537a0619a1\">\n",
       "      <button class=\"colab-df-quickchart\" onclick=\"quickchart('df-5c7c36e7-dc94-4c3e-ae49-fa537a0619a1')\"\n",
       "                title=\"Suggest charts\"\n",
       "                style=\"display:none;\">\n",
       "\n",
       "<svg xmlns=\"http://www.w3.org/2000/svg\" height=\"24px\"viewBox=\"0 0 24 24\"\n",
       "     width=\"24px\">\n",
       "    <g>\n",
       "        <path d=\"M19 3H5c-1.1 0-2 .9-2 2v14c0 1.1.9 2 2 2h14c1.1 0 2-.9 2-2V5c0-1.1-.9-2-2-2zM9 17H7v-7h2v7zm4 0h-2V7h2v10zm4 0h-2v-4h2v4z\"/>\n",
       "    </g>\n",
       "</svg>\n",
       "      </button>\n",
       "\n",
       "<style>\n",
       "  .colab-df-quickchart {\n",
       "      --bg-color: #E8F0FE;\n",
       "      --fill-color: #1967D2;\n",
       "      --hover-bg-color: #E2EBFA;\n",
       "      --hover-fill-color: #174EA6;\n",
       "      --disabled-fill-color: #AAA;\n",
       "      --disabled-bg-color: #DDD;\n",
       "  }\n",
       "\n",
       "  [theme=dark] .colab-df-quickchart {\n",
       "      --bg-color: #3B4455;\n",
       "      --fill-color: #D2E3FC;\n",
       "      --hover-bg-color: #434B5C;\n",
       "      --hover-fill-color: #FFFFFF;\n",
       "      --disabled-bg-color: #3B4455;\n",
       "      --disabled-fill-color: #666;\n",
       "  }\n",
       "\n",
       "  .colab-df-quickchart {\n",
       "    background-color: var(--bg-color);\n",
       "    border: none;\n",
       "    border-radius: 50%;\n",
       "    cursor: pointer;\n",
       "    display: none;\n",
       "    fill: var(--fill-color);\n",
       "    height: 32px;\n",
       "    padding: 0;\n",
       "    width: 32px;\n",
       "  }\n",
       "\n",
       "  .colab-df-quickchart:hover {\n",
       "    background-color: var(--hover-bg-color);\n",
       "    box-shadow: 0 1px 2px rgba(60, 64, 67, 0.3), 0 1px 3px 1px rgba(60, 64, 67, 0.15);\n",
       "    fill: var(--button-hover-fill-color);\n",
       "  }\n",
       "\n",
       "  .colab-df-quickchart-complete:disabled,\n",
       "  .colab-df-quickchart-complete:disabled:hover {\n",
       "    background-color: var(--disabled-bg-color);\n",
       "    fill: var(--disabled-fill-color);\n",
       "    box-shadow: none;\n",
       "  }\n",
       "\n",
       "  .colab-df-spinner {\n",
       "    border: 2px solid var(--fill-color);\n",
       "    border-color: transparent;\n",
       "    border-bottom-color: var(--fill-color);\n",
       "    animation:\n",
       "      spin 1s steps(1) infinite;\n",
       "  }\n",
       "\n",
       "  @keyframes spin {\n",
       "    0% {\n",
       "      border-color: transparent;\n",
       "      border-bottom-color: var(--fill-color);\n",
       "      border-left-color: var(--fill-color);\n",
       "    }\n",
       "    20% {\n",
       "      border-color: transparent;\n",
       "      border-left-color: var(--fill-color);\n",
       "      border-top-color: var(--fill-color);\n",
       "    }\n",
       "    30% {\n",
       "      border-color: transparent;\n",
       "      border-left-color: var(--fill-color);\n",
       "      border-top-color: var(--fill-color);\n",
       "      border-right-color: var(--fill-color);\n",
       "    }\n",
       "    40% {\n",
       "      border-color: transparent;\n",
       "      border-right-color: var(--fill-color);\n",
       "      border-top-color: var(--fill-color);\n",
       "    }\n",
       "    60% {\n",
       "      border-color: transparent;\n",
       "      border-right-color: var(--fill-color);\n",
       "    }\n",
       "    80% {\n",
       "      border-color: transparent;\n",
       "      border-right-color: var(--fill-color);\n",
       "      border-bottom-color: var(--fill-color);\n",
       "    }\n",
       "    90% {\n",
       "      border-color: transparent;\n",
       "      border-bottom-color: var(--fill-color);\n",
       "    }\n",
       "  }\n",
       "</style>\n",
       "\n",
       "      <script>\n",
       "        async function quickchart(key) {\n",
       "          const quickchartButtonEl =\n",
       "            document.querySelector('#' + key + ' button');\n",
       "          quickchartButtonEl.disabled = true;  // To prevent multiple clicks.\n",
       "          quickchartButtonEl.classList.add('colab-df-spinner');\n",
       "          try {\n",
       "            const charts = await google.colab.kernel.invokeFunction(\n",
       "                'suggestCharts', [key], {});\n",
       "          } catch (error) {\n",
       "            console.error('Error during call to suggestCharts:', error);\n",
       "          }\n",
       "          quickchartButtonEl.classList.remove('colab-df-spinner');\n",
       "          quickchartButtonEl.classList.add('colab-df-quickchart-complete');\n",
       "        }\n",
       "        (() => {\n",
       "          let quickchartButtonEl =\n",
       "            document.querySelector('#df-5c7c36e7-dc94-4c3e-ae49-fa537a0619a1 button');\n",
       "          quickchartButtonEl.style.display =\n",
       "            google.colab.kernel.accessAllowed ? 'block' : 'none';\n",
       "        })();\n",
       "      </script>\n",
       "    </div>\n",
       "\n",
       "    </div>\n",
       "  </div>\n"
      ],
      "text/plain": [
       "                                            text  \\\n",
       "0  this is an amazing app for online classes!but   \n",
       "1                 very practical and easy to use   \n",
       "2  this app is very good for video conferencing.   \n",
       "3               i can not download this zoom app   \n",
       "4             i am not able to download this app   \n",
       "\n",
       "                                   reason  label  \n",
       "0  good app for conducting online classes      1  \n",
       "1                    app is user-friendly      1  \n",
       "2             good for video conferencing      1  \n",
       "3             unable to download zoom app      1  \n",
       "4                want to download the app      1  "
      ]
     },
     "execution_count": 2,
     "metadata": {},
     "output_type": "execute_result"
    }
   ],
   "source": [
    "# Load train and evaluation datasets\n",
    "train_df = pd.read_excel(\"train.xlsx\")\n",
    "eval_df = pd.read_excel(\"evaluation.xlsx\")\n",
    "\n",
    "train_df.head()"
   ]
  },
  {
   "cell_type": "code",
   "execution_count": 3,
   "metadata": {
    "colab": {
     "base_uri": "https://localhost:8080/"
    },
    "id": "pfdPKzOTp9zl",
    "outputId": "d951abf9-657f-493c-b9d0-f5ba02e3b8d5"
   },
   "outputs": [
    {
     "name": "stdout",
     "output_type": "stream",
     "text": [
      "<class 'pandas.core.frame.DataFrame'>\n",
      "RangeIndex: 2061 entries, 0 to 2060\n",
      "Data columns (total 3 columns):\n",
      " #   Column  Non-Null Count  Dtype \n",
      "---  ------  --------------  ----- \n",
      " 0   text    2061 non-null   object\n",
      " 1   reason  2061 non-null   object\n",
      " 2   label   2061 non-null   int64 \n",
      "dtypes: int64(1), object(2)\n",
      "memory usage: 48.4+ KB\n"
     ]
    }
   ],
   "source": [
    "train_df.info()"
   ]
  },
  {
   "cell_type": "code",
   "execution_count": 4,
   "metadata": {
    "colab": {
     "base_uri": "https://localhost:8080/"
    },
    "id": "kr0NJjLhqPJ8",
    "outputId": "00f93a18-3d40-4d06-f82c-81fcc77bc5c3"
   },
   "outputs": [
    {
     "name": "stdout",
     "output_type": "stream",
     "text": [
      "<class 'pandas.core.frame.DataFrame'>\n",
      "RangeIndex: 9000 entries, 0 to 8999\n",
      "Data columns (total 3 columns):\n",
      " #   Column  Non-Null Count  Dtype \n",
      "---  ------  --------------  ----- \n",
      " 0   text    9000 non-null   object\n",
      " 1   reason  9000 non-null   object\n",
      " 2   label   9000 non-null   int64 \n",
      "dtypes: int64(1), object(2)\n",
      "memory usage: 211.1+ KB\n"
     ]
    }
   ],
   "source": [
    "eval_df.info()"
   ]
  },
  {
   "cell_type": "code",
   "execution_count": 5,
   "metadata": {
    "colab": {
     "base_uri": "https://localhost:8080/"
    },
    "id": "cWXIo8kXqTgw",
    "outputId": "523e7bc2-ff1d-44e2-8432-f6b73a39a46b"
   },
   "outputs": [
    {
     "name": "stdout",
     "output_type": "stream",
     "text": [
      "Train Data Class Distribution:\n",
      " label\n",
      "1    2061\n",
      "Name: count, dtype: int64\n",
      "Evaluation Data Class Distribution:\n",
      " label\n",
      "0    5999\n",
      "1    3001\n",
      "Name: count, dtype: int64\n"
     ]
    }
   ],
   "source": [
    "# Check class distribution\n",
    "print(\"Train Data Class Distribution:\\n\", train_df[\"label\"].value_counts())\n",
    "print(\"Evaluation Data Class Distribution:\\n\", eval_df[\"label\"].value_counts())"
   ]
  },
  {
   "cell_type": "code",
   "execution_count": 6,
   "metadata": {
    "id": "9G1sFRUIsn1Q"
   },
   "outputs": [],
   "source": [
    "# Text Cleaning Function\n",
    "def clean_text(text):\n",
    "    text = text.lower()\n",
    "    text = re.sub(r\"\\d+\", \"\", text) # Remove numbers\n",
    "    text = re.sub(r\"https?://\\S+|www\\.\\S+\", \"\", text)  # Remove URLs\n",
    "    text = re.sub(r\"<.*?>\", \"\", text)  # Remove HTML tags\n",
    "    text = re.sub(r\"[^a-zA-Z0-9\\s]\", \"\", text)  # Remove special characters\n",
    "    text = re.sub(r\"\\s+\", \" \", text).strip()  # Remove extra spaces\n",
    "    return text\n"
   ]
  },
  {
   "cell_type": "code",
   "execution_count": 7,
   "metadata": {
    "id": "uxbMbTv2sori"
   },
   "outputs": [],
   "source": [
    "# Apply text cleaning\n",
    "train_df[\"text\"] = train_df[\"text\"].apply(clean_text)\n",
    "train_df[\"reason\"] = train_df[\"reason\"].apply(clean_text)\n",
    "eval_df[\"text\"] = eval_df[\"text\"].apply(clean_text)\n",
    "eval_df[\"reason\"] = eval_df[\"reason\"].apply(clean_text)"
   ]
  },
  {
   "cell_type": "code",
   "execution_count": 8,
   "metadata": {
    "id": "2yBtdAA_YQ_2"
   },
   "outputs": [],
   "source": [
    "# Synonym Replacement for Data Augmentation\n",
    "def synonym_replacement(text, n=2):\n",
    "    words = text.split()\n",
    "    new_words = words.copy()\n",
    "    for _ in range(n):\n",
    "        word_idx = random.randint(0, len(words) - 1)\n",
    "        synonyms = wordnet.synsets(words[word_idx])\n",
    "        if synonyms:\n",
    "            synonym = synonyms[0].lemmas()[0].name()\n",
    "            new_words[word_idx] = synonym.replace(\"_\", \" \")  # Replace underscores if any\n",
    "    return \" \".join(new_words)"
   ]
  },
  {
   "cell_type": "code",
   "execution_count": 9,
   "metadata": {
    "id": "pN0mEoTFtdeB"
   },
   "outputs": [],
   "source": [
    "# Generate negative examples for training data (if needed)\n",
    "def generate_negative_pairs(df, num_negatives=None):\n",
    "    if num_negatives is None:\n",
    "        num_negatives = len(df)  # Match number of positive examples\n",
    "\n",
    "    negative_samples = pd.DataFrame({\n",
    "        \"text\": df[\"text\"].sample(n=num_negatives, replace=True).values,\n",
    "        \"reason\": df[\"reason\"].sample(n=num_negatives, replace=True).values,\n",
    "        \"label\": 0\n",
    "    })\n",
    "    # Remove accidental positive matches\n",
    "    negative_samples = negative_samples[negative_samples[\"text\"] != negative_samples[\"reason\"]]\n",
    "    return pd.concat([df, negative_samples]).sample(frac=1).reset_index(drop=True)\n",
    "\n",
    "# Augment training data with negative examples\n",
    "train_df = generate_negative_pairs(train_df)"
   ]
  },
  {
   "cell_type": "code",
   "execution_count": 10,
   "metadata": {
    "id": "X-nxKPPAbhZB"
   },
   "outputs": [],
   "source": [
    "# Augment training data\n",
    "train_df[\"augmented_text\"] = train_df[\"text\"].apply(lambda x: synonym_replacement(x) if random.random() < 0.3 else x)\n",
    "train_df[\"augmented_reason\"] = train_df[\"reason\"].apply(lambda x: synonym_replacement(x) if random.random() < 0.3 else x)"
   ]
  },
  {
   "cell_type": "code",
   "execution_count": 11,
   "metadata": {
    "id": "hfR8YG9w9kG4"
   },
   "outputs": [],
   "source": [
    "# Handle class imbalance in evaluation dataset (Optional: Downsample majority class)\n",
    "def balance_evaluation_set(df):\n",
    "    class_0 = df[df[\"label\"] == 0]\n",
    "    class_1 = df[df[\"label\"] == 1]\n",
    "    class_0_downsampled = resample(class_0, replace=False, n_samples=len(class_1), random_state=42)\n",
    "    return pd.concat([class_0_downsampled, class_1]).sample(frac=1).reset_index(drop=True)\n",
    "\n",
    "eval_df = balance_evaluation_set(eval_df)"
   ]
  },
  {
   "cell_type": "code",
   "execution_count": 12,
   "metadata": {
    "id": "t_lOk_cGQNvK"
   },
   "outputs": [],
   "source": [
    "train_df = pd.concat([train_df, eval_df.sample(n=1000, random_state=42)])"
   ]
  },
  {
   "cell_type": "code",
   "execution_count": 13,
   "metadata": {
    "id": "qQPM7h8LGjuR"
   },
   "outputs": [],
   "source": [
    "# # Further downsample evaluation dataset by 2000 rows while keeping balance\n",
    "# def downsample_evaluation_set(df, num_samples=1000):\n",
    "#     class_0 = df[df[\"label\"] == 0].sample(n=len(df[df[\"label\"] == 0]) - num_samples, random_state=42)\n",
    "#     class_1 = df[df[\"label\"] == 1].sample(n=len(df[df[\"label\"] == 1]) - num_samples, random_state=42)\n",
    "#     return pd.concat([class_0, class_1]).sample(frac=1).reset_index(drop=True)\n",
    "\n",
    "\n",
    "# # Then, downsample it further\n",
    "# eval_df = downsample_evaluation_set(eval_df)\n"
   ]
  },
  {
   "cell_type": "code",
   "execution_count": 14,
   "metadata": {
    "colab": {
     "base_uri": "https://localhost:8080/"
    },
    "id": "F97z8cMe_HRJ",
    "outputId": "5bfe9771-18d7-4f9b-c109-21323daf1269"
   },
   "outputs": [
    {
     "name": "stdout",
     "output_type": "stream",
     "text": [
      "Train Data Class Distribution:\n",
      " label\n",
      "0    2586\n",
      "1    2536\n",
      "Name: count, dtype: int64\n",
      "Evaluation Data Class Distribution:\n",
      " label\n",
      "0    3001\n",
      "1    3001\n",
      "Name: count, dtype: int64\n"
     ]
    }
   ],
   "source": [
    "# Check class distribution\n",
    "print(\"Train Data Class Distribution:\\n\", train_df[\"label\"].value_counts())\n",
    "print(\"Evaluation Data Class Distribution:\\n\", eval_df[\"label\"].value_counts())"
   ]
  },
  {
   "cell_type": "code",
   "execution_count": 15,
   "metadata": {
    "colab": {
     "base_uri": "https://localhost:8080/"
    },
    "id": "LuH4jFugaYcY",
    "outputId": "4a2168c3-c63f-4473-bb7e-548c96d77d7f"
   },
   "outputs": [
    {
     "name": "stdout",
     "output_type": "stream",
     "text": [
      "<class 'pandas.core.frame.DataFrame'>\n",
      "Index: 5122 entries, 0 to 5001\n",
      "Data columns (total 5 columns):\n",
      " #   Column            Non-Null Count  Dtype \n",
      "---  ------            --------------  ----- \n",
      " 0   text              5122 non-null   object\n",
      " 1   reason            5122 non-null   object\n",
      " 2   label             5122 non-null   int64 \n",
      " 3   augmented_text    4122 non-null   object\n",
      " 4   augmented_reason  4122 non-null   object\n",
      "dtypes: int64(1), object(4)\n",
      "memory usage: 240.1+ KB\n"
     ]
    }
   ],
   "source": [
    "train_df.info()"
   ]
  },
  {
   "cell_type": "code",
   "execution_count": 16,
   "metadata": {
    "id": "EVzgWVkvcqGl"
   },
   "outputs": [],
   "source": [
    "# Ensure no NaN values in the augmented columns\n",
    "train_df[\"augmented_text\"] = train_df[\"augmented_text\"].fillna(train_df[\"text\"])\n",
    "train_df[\"augmented_reason\"] = train_df[\"augmented_reason\"].fillna(train_df[\"reason\"])"
   ]
  },
  {
   "cell_type": "code",
   "execution_count": 17,
   "metadata": {
    "id": "Qf7dJAsJrhqB"
   },
   "outputs": [],
   "source": [
    "# Combine 'text' and 'reason'\n",
    "train_df[\"combined_text\"] = train_df[\"augmented_text\"] + \" [SEP] \" + train_df[\"augmented_reason\"]\n",
    "eval_df[\"combined_text\"] = eval_df[\"text\"] + \" [SEP] \" + eval_df[\"reason\"]"
   ]
  },
  {
   "cell_type": "code",
   "execution_count": 18,
   "metadata": {
    "id": "omYmGWFL_tR_"
   },
   "outputs": [],
   "source": [
    "# Train-Validation Split\n",
    "train_texts, val_texts, train_labels, val_labels = train_test_split(\n",
    "    train_df[\"combined_text\"].values, train_df[\"label\"].values, test_size=0.2, random_state=42\n",
    ")"
   ]
  },
  {
   "cell_type": "code",
   "execution_count": 19,
   "metadata": {
    "id": "3ZezJvfYr2Ay"
   },
   "outputs": [],
   "source": [
    "# Compute class weights\n",
    "class_weights = class_weight.compute_class_weight(\n",
    "    class_weight=\"balanced\",\n",
    "    classes=np.unique(train_df[\"label\"]),\n",
    "    y=train_df[\"label\"]\n",
    ")\n",
    "class_weights_dict = {i: class_weights[i] for i in range(len(class_weights))}\n"
   ]
  },
  {
   "cell_type": "code",
   "execution_count": 20,
   "metadata": {
    "colab": {
     "base_uri": "https://localhost:8080/",
     "height": 269,
     "referenced_widgets": [
      "a6b2f8685eab458291fd5895b8d3d2e8",
      "8958dd8c0fba4c45b6620add4fd3b3a3",
      "ea07ce9c94654554b88ca8995ab76bb7",
      "0ee760cfe445408a9c344f964abb8f6c",
      "1b450abe5a6f452aaece80c7997bd031",
      "3636ee5c95b0497eab3d02b368891711",
      "f3b22120dbe3461c9048ce5590d2c9d3",
      "e01cedc5a9814fc6b1f4f367f9bf6543",
      "a45a2675453d4b618d8fd6d05dceb43e",
      "85a48ded5bed49c5ba15da6ec4aa3445",
      "570c960e0f764fa3853664b2bc6bbaf4",
      "846c66c9c41e42f48a3bf31126ee75f0",
      "f8573f4651a84b7f98f8c0c55f39dcdc",
      "5492323b4a0e4fddb534f13c63b0f9f4",
      "2960841f75e3419e945fb67961a9d476",
      "5f3ed2b5c69347f98e983fe4e2a5c201",
      "7b13ec9074244deab5069c655994ed2e",
      "b50fe0c734c149348f0d41cd853db95b",
      "84909f4fd8114f0089af50d6c5a8c730",
      "a6ecc4b9350d42d2af68b0a4bcfe2e90",
      "ff96f154a91d47bc8c5af372b137973a",
      "cfb4da0101e2402cbe385465b0b88a4c",
      "e94e9846a17e4a2da777c6637af47832",
      "faab33711dbe4604a4c815f4f3319181",
      "4b33cc03eb074824813ed2fa0a6f328f",
      "ba681373a92f4156b0ae2be2c9e2e069",
      "cb8222b568e144b2bd8dce8eddb982d6",
      "da9601150c9441c19a0d165d40741fc7",
      "da68145d39d041bc8a82df4eaace33ad",
      "66e9c1eec4fb41d3803939d64ab3e97a",
      "80946fffa98f4493a5ed0cd1f046dc58",
      "fbbdcf3735d640f0ac351f301bb15a91",
      "82e6886476ba454a8e9c1448d04dfeb3",
      "9f37eee7cca74f1f8eb13a98c8ec8eae",
      "6cb9f67bda344f44ae0d48975bdd97e6",
      "364543a3e0354cc78e6d066ff478a33f",
      "79f6fc0541924db5b8d6b38c9d746afe",
      "961ba659721145428e7811f3dfead387",
      "36de3a14509e4212b454d42c32d2cd93",
      "31a9999cd4204f1daf3f1abd85a4aa56",
      "03ebff1f70a94025afefe3ea77e018a2",
      "f7d0df97b45e44f2a8f22dda9a8cec09",
      "26cc85a4cf634934b3fc58449ae443c4",
      "76236818f2f24fed951d4c11d0c95dee"
     ]
    },
    "id": "tcGrwcZwuNOE",
    "outputId": "2858aea7-70ee-45bb-a9ef-466983ab2598"
   },
   "outputs": [
    {
     "name": "stderr",
     "output_type": "stream",
     "text": [
      "/usr/local/lib/python3.11/dist-packages/huggingface_hub/utils/_auth.py:94: UserWarning: \n",
      "The secret `HF_TOKEN` does not exist in your Colab secrets.\n",
      "To authenticate with the Hugging Face Hub, create a token in your settings tab (https://huggingface.co/settings/tokens), set it as secret in your Google Colab and restart your session.\n",
      "You will be able to reuse this secret in all of your notebooks.\n",
      "Please note that authentication is recommended but still optional to access public models or datasets.\n",
      "  warnings.warn(\n"
     ]
    },
    {
     "data": {
      "application/vnd.jupyter.widget-view+json": {
       "model_id": "a6b2f8685eab458291fd5895b8d3d2e8",
       "version_major": 2,
       "version_minor": 0
      },
      "text/plain": [
       "tokenizer_config.json:   0%|          | 0.00/48.0 [00:00<?, ?B/s]"
      ]
     },
     "metadata": {},
     "output_type": "display_data"
    },
    {
     "data": {
      "application/vnd.jupyter.widget-view+json": {
       "model_id": "846c66c9c41e42f48a3bf31126ee75f0",
       "version_major": 2,
       "version_minor": 0
      },
      "text/plain": [
       "vocab.txt:   0%|          | 0.00/232k [00:00<?, ?B/s]"
      ]
     },
     "metadata": {},
     "output_type": "display_data"
    },
    {
     "data": {
      "application/vnd.jupyter.widget-view+json": {
       "model_id": "e94e9846a17e4a2da777c6637af47832",
       "version_major": 2,
       "version_minor": 0
      },
      "text/plain": [
       "tokenizer.json:   0%|          | 0.00/466k [00:00<?, ?B/s]"
      ]
     },
     "metadata": {},
     "output_type": "display_data"
    },
    {
     "data": {
      "application/vnd.jupyter.widget-view+json": {
       "model_id": "9f37eee7cca74f1f8eb13a98c8ec8eae",
       "version_major": 2,
       "version_minor": 0
      },
      "text/plain": [
       "config.json:   0%|          | 0.00/570 [00:00<?, ?B/s]"
      ]
     },
     "metadata": {},
     "output_type": "display_data"
    }
   ],
   "source": [
    "# Tokenization\n",
    "tokenizer = BertTokenizer.from_pretrained(\"bert-base-uncased\")\n",
    "\n",
    "def tokenize(texts, max_len=128):\n",
    "    return tokenizer(\n",
    "        list(texts),\n",
    "        padding=\"max_length\",\n",
    "        truncation=True,\n",
    "        max_length=max_len,\n",
    "        return_tensors=\"tf\"\n",
    "    )"
   ]
  },
  {
   "cell_type": "code",
   "execution_count": 21,
   "metadata": {
    "id": "Ct90PwDZuXxQ"
   },
   "outputs": [],
   "source": [
    "# Encode text data\n",
    "train_encodings = tokenize(train_texts)\n",
    "val_encodings = tokenize(val_texts)\n",
    "eval_encodings = tokenize(eval_df[\"combined_text\"].values)"
   ]
  },
  {
   "cell_type": "code",
   "execution_count": 22,
   "metadata": {
    "id": "jACmeytbuktP"
   },
   "outputs": [],
   "source": [
    "# Convert to TensorFlow dataset\n",
    "train_dataset = tf.data.Dataset.from_tensor_slices((dict(train_encodings), train_labels)).shuffle(1000).batch(16)\n",
    "val_dataset = tf.data.Dataset.from_tensor_slices((dict(val_encodings), val_labels)).batch(16)\n",
    "eval_dataset = tf.data.Dataset.from_tensor_slices((dict(eval_encodings), eval_df[\"label\"].values)).batch(16)\n"
   ]
  },
  {
   "cell_type": "code",
   "execution_count": 23,
   "metadata": {
    "colab": {
     "base_uri": "https://localhost:8080/",
     "height": 173,
     "referenced_widgets": [
      "05a6b0c738f14f489473e9b7d72ca006",
      "48d2b5c0f7374ac088bec99f24798892",
      "309016f254774b48aa893e2792a20380",
      "bcb364e77cad452e98691512fac32eab",
      "384f4f5ebbc24ba4a3eadca989e789e9",
      "7c5131da824c48e2a244671c68625a3e",
      "a61ec08948bb4baebd456173a792b329",
      "325d34e69a744dc29f6f62e90da3f37b",
      "2f068fc7d11f4b3b932edb680b7e4505",
      "36f6d6178c26427ea1a07f8a873f461c",
      "7baf38c3f49c4a64b689ab5e0cf049ad"
     ]
    },
    "id": "M78TdAPHuv5o",
    "outputId": "a8873e67-12bc-4249-bee3-0a8f08d8ed61"
   },
   "outputs": [
    {
     "name": "stderr",
     "output_type": "stream",
     "text": [
      "Xet Storage is enabled for this repo, but the 'hf_xet' package is not installed. Falling back to regular HTTP download. For better performance, install the package with: `pip install huggingface_hub[hf_xet]` or `pip install hf_xet`\n",
      "WARNING:huggingface_hub.file_download:Xet Storage is enabled for this repo, but the 'hf_xet' package is not installed. Falling back to regular HTTP download. For better performance, install the package with: `pip install huggingface_hub[hf_xet]` or `pip install hf_xet`\n"
     ]
    },
    {
     "data": {
      "application/vnd.jupyter.widget-view+json": {
       "model_id": "05a6b0c738f14f489473e9b7d72ca006",
       "version_major": 2,
       "version_minor": 0
      },
      "text/plain": [
       "model.safetensors:   0%|          | 0.00/440M [00:00<?, ?B/s]"
      ]
     },
     "metadata": {},
     "output_type": "display_data"
    },
    {
     "name": "stderr",
     "output_type": "stream",
     "text": [
      "All PyTorch model weights were used when initializing TFBertForSequenceClassification.\n",
      "\n",
      "Some weights or buffers of the TF 2.0 model TFBertForSequenceClassification were not initialized from the PyTorch model and are newly initialized: ['classifier.weight', 'classifier.bias']\n",
      "You should probably TRAIN this model on a down-stream task to be able to use it for predictions and inference.\n"
     ]
    }
   ],
   "source": [
    "# Load BERT Model\n",
    "model = TFBertForSequenceClassification.from_pretrained(\"bert-base-uncased\", num_labels=2)"
   ]
  },
  {
   "cell_type": "code",
   "execution_count": 24,
   "metadata": {
    "id": "X3dguiMXu4DR"
   },
   "outputs": [],
   "source": [
    "# Compile Model\n",
    "optimizer = tf.optimizers.Adam(learning_rate=1e-5)\n",
    "model.compile(optimizer=optimizer, loss=tf.keras.losses.SparseCategoricalCrossentropy(from_logits=True), metrics=[\"accuracy\"])\n"
   ]
  },
  {
   "cell_type": "code",
   "execution_count": 25,
   "metadata": {
    "colab": {
     "base_uri": "https://localhost:8080/"
    },
    "id": "LNYZa48xv2oj",
    "outputId": "c5e9a997-03d1-4d1b-83cd-ce6489cdaf8a"
   },
   "outputs": [
    {
     "name": "stdout",
     "output_type": "stream",
     "text": [
      "Epoch 1/7\n",
      "257/257 [==============================] - 159s 454ms/step - loss: 0.3901 - accuracy: 0.8269 - val_loss: 0.2465 - val_accuracy: 0.9024\n",
      "Epoch 2/7\n",
      "257/257 [==============================] - 113s 440ms/step - loss: 0.2200 - accuracy: 0.9190 - val_loss: 0.2537 - val_accuracy: 0.9015\n",
      "Epoch 3/7\n",
      "257/257 [==============================] - 114s 443ms/step - loss: 0.1592 - accuracy: 0.9463 - val_loss: 0.2388 - val_accuracy: 0.9083\n",
      "Epoch 4/7\n",
      "257/257 [==============================] - 114s 443ms/step - loss: 0.1357 - accuracy: 0.9483 - val_loss: 0.2754 - val_accuracy: 0.9093\n",
      "Epoch 5/7\n",
      "257/257 [==============================] - 114s 443ms/step - loss: 0.0826 - accuracy: 0.9719 - val_loss: 0.2765 - val_accuracy: 0.9093\n",
      "Epoch 6/7\n",
      "257/257 [==============================] - 113s 440ms/step - loss: 0.0571 - accuracy: 0.9829 - val_loss: 0.2900 - val_accuracy: 0.9180\n",
      "Epoch 7/7\n",
      "257/257 [==============================] - 113s 439ms/step - loss: 0.0414 - accuracy: 0.9866 - val_loss: 0.3337 - val_accuracy: 0.9005\n"
     ]
    }
   ],
   "source": [
    "# Train Model\n",
    "history = model.fit(train_dataset, validation_data=val_dataset, epochs=7, class_weight=class_weights_dict)"
   ]
  },
  {
   "cell_type": "code",
   "execution_count": 26,
   "metadata": {
    "id": "rZl-nE2a12aY"
   },
   "outputs": [],
   "source": [
    "# # Save Model\n",
    "# model.save_pretrained(\"bert_text_classifier\")"
   ]
  },
  {
   "cell_type": "code",
   "execution_count": 27,
   "metadata": {
    "id": "y4NYVM0k16Zp"
   },
   "outputs": [],
   "source": [
    "# Function for Predictions with Threshold\n",
    "\n",
    "def predict_with_threshold(model, tokenizer, texts, threshold=0.7):\n",
    "    encodings = tokenize(texts)\n",
    "    predictions = model.predict(dict(encodings)).logits\n",
    "    probs = tf.nn.softmax(predictions, axis=1).numpy()\n",
    "    return (probs[:, 1] > threshold).astype(int)\n"
   ]
  },
  {
   "cell_type": "code",
   "execution_count": 28,
   "metadata": {
    "id": "hbBi-4BAJ1Bq"
   },
   "outputs": [],
   "source": [
    "# Function for Predictions WITHOUT threshold\n",
    "def predict_without_threshold(model, tokenizer, texts):\n",
    "    encodings = tokenize(texts)\n",
    "    predictions = model.predict(dict(encodings)).logits\n",
    "    probs = tf.nn.softmax(predictions, axis=1).numpy()\n",
    "    return np.argmax(probs, axis=1)  # Get the class with the highest probability\n"
   ]
  },
  {
   "cell_type": "code",
   "execution_count": 29,
   "metadata": {
    "colab": {
     "base_uri": "https://localhost:8080/"
    },
    "id": "5MMYSdT22ElV",
    "outputId": "6b2cbd3d-7ebe-43c5-f109-29a1b06ca7fd"
   },
   "outputs": [
    {
     "name": "stdout",
     "output_type": "stream",
     "text": [
      "188/188 [==============================] - 55s 277ms/step\n",
      "              precision    recall  f1-score   support\n",
      "\n",
      "           0       0.83      0.79      0.81      3001\n",
      "           1       0.80      0.83      0.82      3001\n",
      "\n",
      "    accuracy                           0.81      6002\n",
      "   macro avg       0.81      0.81      0.81      6002\n",
      "weighted avg       0.81      0.81      0.81      6002\n",
      "\n"
     ]
    }
   ],
   "source": [
    "# Evaluate on Test Data WITHOUT threshold\n",
    "eval_preds = predict_with_threshold(model, tokenizer, eval_df[\"combined_text\"].values)\n",
    "print(classification_report(eval_df[\"label\"].values, eval_preds))\n"
   ]
  },
  {
   "cell_type": "code",
   "execution_count": 30,
   "metadata": {
    "colab": {
     "base_uri": "https://localhost:8080/"
    },
    "id": "OGVjlcWdOGVJ",
    "outputId": "2ba251b4-5870-483b-b36a-58f1ceaccb8b"
   },
   "outputs": [
    {
     "name": "stdout",
     "output_type": "stream",
     "text": [
      "1/1 [==============================] - 0s 53ms/step\n",
      "Prediction: 0 (1 = Valuable, 0 = Not Valuable)\n"
     ]
    },
    {
     "data": {
      "text/plain": [
       "0"
      ]
     },
     "execution_count": 30,
     "metadata": {},
     "output_type": "execute_result"
    }
   ],
   "source": [
    "# Function for Manual Prediction\n",
    "def manual_predict(text, reason, model, tokenizer, threshold=0.7):\n",
    "    combined_text = text + \" [SEP] \" + reason\n",
    "    encodings = tokenize([combined_text])\n",
    "    predictions = model.predict(dict(encodings)).logits\n",
    "    probs = tf.nn.softmax(predictions, axis=1).numpy()\n",
    "    pred_label = 1 if probs[0][1] > threshold else 0  # Apply threshold\n",
    "\n",
    "    print(f\"Prediction: {pred_label} (1 = Valuable, 0 = Not Valuable)\")\n",
    "    return pred_label\n",
    "\n",
    "# Example Test\n",
    "sample_text = \"This product is amazing and highly recommened!\"\n",
    "sample_reason = \"The quality is waste , and the price is reasonable.\"\n",
    "\n",
    "manual_predict(sample_text, sample_reason, model, tokenizer)\n"
   ]
  },
  {
   "cell_type": "code",
   "execution_count": 31,
   "metadata": {
    "colab": {
     "base_uri": "https://localhost:8080/"
    },
    "id": "gM2D3vvh8Cro",
    "outputId": "c8e09b2f-887b-418a-ffe6-d2bba7a906fc"
   },
   "outputs": [
    {
     "name": "stdout",
     "output_type": "stream",
     "text": [
      "Mounted at /content/drive\n"
     ]
    }
   ],
   "source": [
    "from google.colab import drive\n",
    "drive.mount('/content/drive')"
   ]
  },
  {
   "cell_type": "code",
   "execution_count": 32,
   "metadata": {
    "colab": {
     "base_uri": "https://localhost:8080/"
    },
    "id": "PJf9l6IF7vMx",
    "outputId": "7ea0bc71-898b-4261-8907-d3bb96853069"
   },
   "outputs": [
    {
     "name": "stdout",
     "output_type": "stream",
     "text": [
      "Model saved successfully at: /content/drive/MyDrive/model\n"
     ]
    }
   ],
   "source": [
    "save_directory = \"/content/drive/MyDrive/model\"\n",
    "\n",
    "# Create the directory if it doesn't exist\n",
    "import os\n",
    "os.makedirs(save_directory, exist_ok=True)\n",
    "\n",
    "# Save the model\n",
    "model.save_pretrained(save_directory)\n",
    "\n",
    "print(f\"Model saved successfully at: {save_directory}\")\n"
   ]
  },
  {
   "cell_type": "code",
   "execution_count": 33,
   "metadata": {
    "colab": {
     "base_uri": "https://localhost:8080/"
    },
    "id": "7rMYX2LD9unZ",
    "outputId": "804aaef1-c290-479a-dac6-c6cc4f997ab6"
   },
   "outputs": [
    {
     "data": {
      "text/plain": [
       "('/content/drive/MyDrive/model/tokenizer_config.json',\n",
       " '/content/drive/MyDrive/model/special_tokens_map.json',\n",
       " '/content/drive/MyDrive/model/vocab.txt',\n",
       " '/content/drive/MyDrive/model/added_tokens.json')"
      ]
     },
     "execution_count": 33,
     "metadata": {},
     "output_type": "execute_result"
    }
   ],
   "source": [
    "tokenizer.save_pretrained(\"/content/drive/MyDrive/model\")"
   ]
  }
 ],
 "metadata": {
  "accelerator": "GPU",
  "colab": {
   "gpuType": "T4",
   "provenance": []
  },
  "kernelspec": {
   "display_name": "Python 3",
   "name": "python3"
  },
  "language_info": {
   "name": "python"
  }
 },
 "nbformat": 4,
 "nbformat_minor": 0
}
